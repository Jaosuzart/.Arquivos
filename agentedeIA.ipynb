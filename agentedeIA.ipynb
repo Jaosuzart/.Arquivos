{
  "nbformat": 4,
  "nbformat_minor": 0,
  "metadata": {
    "colab": {
      "provenance": [],
      "authorship_tag": "ABX9TyNTcyNHJyepl4ytqswpQX54",
      "include_colab_link": true
    },
    "kernelspec": {
      "name": "python3",
      "display_name": "Python 3"
    },
    "language_info": {
      "name": "python"
    }
  },
  "cells": [
    {
      "cell_type": "markdown",
      "metadata": {
        "id": "view-in-github",
        "colab_type": "text"
      },
      "source": [
        "<a href=\"https://colab.research.google.com/github/Jaosuzart/.Arquivos/blob/main/agentedeIA.ipynb\" target=\"_parent\"><img src=\"https://colab.research.google.com/assets/colab-badge.svg\" alt=\"Open In Colab\"/></a>"
      ]
    },
    {
      "cell_type": "code",
      "execution_count": 15,
      "metadata": {
        "id": "OYsrAclr_K5z"
      },
      "outputs": [],
      "source": [
        "%pip -q install google-genai\n"
      ]
    },
    {
      "cell_type": "code",
      "source": [
        "# Configura a API Key do Google Gemini\n",
        "\n",
        "import os\n",
        "from google.colab import userdata\n",
        "\n",
        "os.environ[\"GOOGLE_API_KEY\"] = userdata.get('GOOGLE_API_KEY')"
      ],
      "metadata": {
        "id": "r-UxgRL5BOb5"
      },
      "execution_count": 14,
      "outputs": []
    },
    {
      "cell_type": "code",
      "source": [
        "# Pergunta ao Gemini uma informação mais recente que seu conhecimento\n",
        "\n",
        "from IPython.display import HTML, Markdown\n",
        "\n",
        "# Perguntar pro modelo quando é a próxima imersão de IA ###############################################\n",
        "resposta = client.models.generate_content(\n",
        "    model=MODEL_ID,\n",
        "    contents='Quando é a próximo evento da book friday da Amazon',\n",
        ")\n",
        "\n",
        "# Exibe a resposta na tela\n",
        "display(Markdown(f\"Resposta:\\n {response.text}\"))"
      ],
      "metadata": {
        "colab": {
          "base_uri": "https://localhost:8080/",
          "height": 211
        },
        "id": "7hMmuXit_mry",
        "outputId": "9f333439-adc0-4a84-d9d2-7aff3ef7159d"
      },
      "execution_count": 21,
      "outputs": [
        {
          "output_type": "error",
          "ename": "NameError",
          "evalue": "name 'client' is not defined",
          "traceback": [
            "\u001b[0;31m---------------------------------------------------------------------------\u001b[0m",
            "\u001b[0;31mNameError\u001b[0m                                 Traceback (most recent call last)",
            "\u001b[0;32m<ipython-input-21-e314ae10f88c>\u001b[0m in \u001b[0;36m<cell line: 0>\u001b[0;34m()\u001b[0m\n\u001b[1;32m      4\u001b[0m \u001b[0;34m\u001b[0m\u001b[0m\n\u001b[1;32m      5\u001b[0m \u001b[0;31m# Perguntar pro modelo quando é a próxima imersão de IA ###############################################\u001b[0m\u001b[0;34m\u001b[0m\u001b[0;34m\u001b[0m\u001b[0m\n\u001b[0;32m----> 6\u001b[0;31m resposta = client.models.generate_content(\n\u001b[0m\u001b[1;32m      7\u001b[0m     \u001b[0mmodel\u001b[0m\u001b[0;34m=\u001b[0m\u001b[0mMODEL_ID\u001b[0m\u001b[0;34m,\u001b[0m\u001b[0;34m\u001b[0m\u001b[0;34m\u001b[0m\u001b[0m\n\u001b[1;32m      8\u001b[0m     \u001b[0mcontents\u001b[0m\u001b[0;34m=\u001b[0m\u001b[0;34m\"Quando é a próxima Imersão IA com Google Gemini da Alura?\"\u001b[0m\u001b[0;34m,\u001b[0m\u001b[0;34m\u001b[0m\u001b[0;34m\u001b[0m\u001b[0m\n",
            "\u001b[0;31mNameError\u001b[0m: name 'client' is not defined"
          ]
        }
      ]
    },
    {
      "cell_type": "code",
      "source": [
        "# Pergunta ao Gemini uma informação mais recente que seu conhecimento\n",
        "\n",
        "from IPython.display import HTML, Markdown\n",
        "\n",
        "# Perguntar pro modelo quando é a próxima imersão de IA ###############################################\n",
        "resposta = client.models.generate_content(\n",
        "    model=MODEL_ID,\n",
        "    contents='Quando é o próximo evento de Book Friday da Amazon?',\n",
        ")\n",
        "\n",
        "# Exibe a resposta na tela\n",
        "display(Markdown(f\"Resposta:\\n {response.text}\"))"
      ],
      "metadata": {
        "id": "9ajVyObRCCMe"
      },
      "execution_count": null,
      "outputs": []
    },
    {
      "cell_type": "code",
      "source": [
        "# Exibe a busca\n",
        "print(f\"Busca realizada: {response.candidates[0].grounding_metadata.web_search_queries}\")\n",
        "# Exibe as URLs nas quais ele se baseou\n",
        "print(f\"Páginas utilizadas na resposta: {', '.join([site.web.title for site in response.candidates[0].grounding_metadata.grounding_chunks])}\")\n",
        "print()\n",
        "display(HTML(response.candidates[0].grounding_metadata.search_entry_point.rendered_content))"
      ],
      "metadata": {
        "id": "167817VYCK2P"
      },
      "execution_count": null,
      "outputs": []
    },
    {
      "cell_type": "code",
      "source": [
        "!pip install -q google-adk"
      ],
      "metadata": {
        "colab": {
          "base_uri": "https://localhost:8080/"
        },
        "id": "sT1Jcb8DCWWH",
        "outputId": "a809c3bb-1b9b-46d0-9154-373b977c481c"
      },
      "execution_count": 22,
      "outputs": [
        {
          "output_type": "stream",
          "name": "stdout",
          "text": [
            "\u001b[2K   \u001b[90m━━━━━━━━━━━━━━━━━━━━━━━━━━━━━━━━━━━━━━━━\u001b[0m \u001b[32m1.2/1.2 MB\u001b[0m \u001b[31m19.5 MB/s\u001b[0m eta \u001b[36m0:00:00\u001b[0m\n",
            "\u001b[2K   \u001b[90m━━━━━━━━━━━━━━━━━━━━━━━━━━━━━━━━━━━━━━━━\u001b[0m \u001b[32m232.1/232.1 kB\u001b[0m \u001b[31m15.8 MB/s\u001b[0m eta \u001b[36m0:00:00\u001b[0m\n",
            "\u001b[2K   \u001b[90m━━━━━━━━━━━━━━━━━━━━━━━━━━━━━━━━━━━━━━━━\u001b[0m \u001b[32m95.2/95.2 kB\u001b[0m \u001b[31m7.7 MB/s\u001b[0m eta \u001b[36m0:00:00\u001b[0m\n",
            "\u001b[2K   \u001b[90m━━━━━━━━━━━━━━━━━━━━━━━━━━━━━━━━━━━━━━━━\u001b[0m \u001b[32m217.1/217.1 kB\u001b[0m \u001b[31m14.5 MB/s\u001b[0m eta \u001b[36m0:00:00\u001b[0m\n",
            "\u001b[2K   \u001b[90m━━━━━━━━━━━━━━━━━━━━━━━━━━━━━━━━━━━━━━━━\u001b[0m \u001b[32m334.1/334.1 kB\u001b[0m \u001b[31m16.5 MB/s\u001b[0m eta \u001b[36m0:00:00\u001b[0m\n",
            "\u001b[2K   \u001b[90m━━━━━━━━━━━━━━━━━━━━━━━━━━━━━━━━━━━━━━━━\u001b[0m \u001b[32m125.1/125.1 kB\u001b[0m \u001b[31m7.9 MB/s\u001b[0m eta \u001b[36m0:00:00\u001b[0m\n",
            "\u001b[2K   \u001b[90m━━━━━━━━━━━━━━━━━━━━━━━━━━━━━━━━━━━━━━━━\u001b[0m \u001b[32m65.8/65.8 kB\u001b[0m \u001b[31m4.7 MB/s\u001b[0m eta \u001b[36m0:00:00\u001b[0m\n",
            "\u001b[2K   \u001b[90m━━━━━━━━━━━━━━━━━━━━━━━━━━━━━━━━━━━━━━━━\u001b[0m \u001b[32m119.0/119.0 kB\u001b[0m \u001b[31m8.6 MB/s\u001b[0m eta \u001b[36m0:00:00\u001b[0m\n",
            "\u001b[2K   \u001b[90m━━━━━━━━━━━━━━━━━━━━━━━━━━━━━━━━━━━━━━━━\u001b[0m \u001b[32m194.9/194.9 kB\u001b[0m \u001b[31m13.6 MB/s\u001b[0m eta \u001b[36m0:00:00\u001b[0m\n",
            "\u001b[2K   \u001b[90m━━━━━━━━━━━━━━━━━━━━━━━━━━━━━━━━━━━━━━━━\u001b[0m \u001b[32m62.5/62.5 kB\u001b[0m \u001b[31m4.3 MB/s\u001b[0m eta \u001b[36m0:00:00\u001b[0m\n",
            "\u001b[2K   \u001b[90m━━━━━━━━━━━━━━━━━━━━━━━━━━━━━━━━━━━━━━━━\u001b[0m \u001b[32m103.3/103.3 kB\u001b[0m \u001b[31m7.0 MB/s\u001b[0m eta \u001b[36m0:00:00\u001b[0m\n",
            "\u001b[2K   \u001b[90m━━━━━━━━━━━━━━━━━━━━━━━━━━━━━━━━━━━━━━━━\u001b[0m \u001b[32m44.4/44.4 kB\u001b[0m \u001b[31m2.9 MB/s\u001b[0m eta \u001b[36m0:00:00\u001b[0m\n",
            "\u001b[2K   \u001b[90m━━━━━━━━━━━━━━━━━━━━━━━━━━━━━━━━━━━━━━━━\u001b[0m \u001b[32m72.0/72.0 kB\u001b[0m \u001b[31m5.7 MB/s\u001b[0m eta \u001b[36m0:00:00\u001b[0m\n",
            "\u001b[?25h"
          ]
        }
      ]
    },
    {
      "cell_type": "code",
      "source": [
        "from google.adk.agents import Agent\n",
        "from google.adk.runners import Runner\n",
        "from google.adk.sessions import InMemorySessionService\n",
        "from google.adk.tools import google_search\n",
        "from google.genai import types  # Para criar conteúdos (Content e Part)\n",
        "from datetime import date\n",
        "import textwrap # Para formatar melhor a saída de texto\n",
        "from IPython.display import display, Markdown # Para exibir texto formatado no Colab\n",
        "import requests # Para fazer requisições HTTP\n",
        "import warnings\n",
        "\n",
        "warnings.filterwarnings(\"ignore\")"
      ],
      "metadata": {
        "id": "6KANhG8yCYe2"
      },
      "execution_count": 24,
      "outputs": []
    },
    {
      "cell_type": "code",
      "source": [
        "# Função auxiliar que envia uma mensagem para um agente via Runner e retorna a resposta final\n",
        "def call_agent(agent: Agent, message_text: str) -> str:\n",
        "    # Cria um serviço de sessão em memória\n",
        "    session_service = InMemorySessionService()\n",
        "    # Cria uma nova sessão (você pode personalizar os IDs conforme necessário)\n",
        "    session = session_service.create_session(app_name=agent.name, user_id=\"user1\", session_id=\"session1\")\n",
        "    # Cria um Runner para o agente\n",
        "    runner = Runner(agent=agent, app_name=agent.name, session_service=session_service)\n",
        "    # Cria o conteúdo da mensagem de entrada\n",
        "    content = types.Content(role=\"user\", parts=[types.Part(text=message_text)])\n",
        "\n",
        "    final_response = \"\"\n",
        "    # Itera assincronamente pelos eventos retornados durante a execução do agente\n",
        "    for event in runner.run(user_id=\"user1\", session_id=\"session1\", new_message=content):\n",
        "        if event.is_final_response():\n",
        "          for part in event.content.parts:\n",
        "            if part.text is not None:\n",
        "              final_response += part.text\n",
        "              final_response += \"\\n\"\n",
        "    return final_response"
      ],
      "metadata": {
        "id": "S0zI-QHLCrEu"
      },
      "execution_count": 25,
      "outputs": []
    },
    {
      "cell_type": "code",
      "source": [
        "# Função auxiliar para exibir texto formatado em Markdown no Colab\n",
        "def to_markdown(text):\n",
        "  text = text.replace('•', '  *')\n",
        "  return Markdown(textwrap.indent(text, '> ', predicate=lambda _: True))"
      ],
      "metadata": {
        "id": "DTQq-LvlCtMu"
      },
      "execution_count": 27,
      "outputs": []
    },
    {
      "cell_type": "code",
      "source": [
        "##########################################\n",
        "# --- Agente 1: Buscador de Notícias --- #\n",
        "##########################################\n",
        "def agente_buscador(topico, data_de_hoje):\n",
        "\n",
        "    buscador = Agent(\n",
        "        name=\"agente_buscador\",\n",
        "        model=\"gemini-2.0-flash\",\n",
        "        instruction=\"\"\"\n",
        "        Você é um assistente de pesquisa. A sua tarefa é usar a ferramenta de busca do google (google_search)\n",
        "        para recuperar as últimas notícias de lançamentos muito relevantes sobre o tópico abaixo.\n",
        "        Foque em no máximo 5 lançamentos relevantes, com base na quantidade e entusiasmo das notícias sobre ele.\n",
        "        Se um tema tiver poucas notícias ou reações entusiasmadas, é possível que ele não seja tão relevante assim\n",
        "        e pode ser substituído por outro que tenha mais.\n",
        "        Esses lançamentos relevantes devem ser atuais, de no máximo um mês antes da data de hoje.\n",
        "        \"\"\",\n",
        "        description=\"Agente que busca informações no Google\",\n",
        "        tools=[google_search]\n",
        "    )\n",
        "\n",
        "    entrada_do_agente_buscador = f\"Tópico: {topico}\\nData de hoje: {data_de_hoje}\"\n",
        "\n",
        "    lancamentos = call_agent(buscador, entrada_do_agente_buscador)\n",
        "    return lancamentos"
      ],
      "metadata": {
        "id": "_Ng_EVc8CvUO"
      },
      "execution_count": 26,
      "outputs": []
    },
    {
      "cell_type": "code",
      "source": [
        "################################################\n",
        "# --- Agente 2: Planejador de posts --- #\n",
        "################################################\n",
        "def agente_planejador(topico, lancamentos_buscados):\n",
        "    planejador = Agent(\n",
        "        name=\"agente_planejador\",\n",
        "        model=\"gemini-2.0-flash\",\n",
        "        # Inserir as instruções do Agente Planejador #################################################\n",
        "        instruction=\"\"\"\n",
        "        Você é um planejador de conteúdo, especialista em redes sociais. Com base na lista de\n",
        "        lançamentos mais recentes e relevantes buscador, você deve:\n",
        "        usar a ferramenta de busca do Google (google_search) para criar um plano sobre\n",
        "        quais são os pontos mais relevantes que poderíamos abordar em um post sobre\n",
        "        cada um deles. Você também pode usar o (google_search) para encontrar mais\n",
        "        informações sobre os temas e aprofundar.\n",
        "        Ao final, você irá escolher o tema mais relevante entre eles com base nas suas pesquisas\n",
        "        e retornar esse tema, seus pontos mais relevantes, e um plano com os assuntos\n",
        "        a serem abordados no post que será escrito posteriormente.\n",
        "        \"\"\",\n",
        "        description=\"Agente que planeja posts\",\n",
        "        tools=[google_search]\n",
        "    )\n",
        "\n",
        "    entrada_do_agente_planejador = f\"Tópico:{topico}\\nLançamentos buscados: {lancamentos_buscados}\"\n",
        "    # Executa o agente\n",
        "    plano_do_post = call_agent(planejador, entrada_do_agente_planejador)\n",
        "    return plano_do_post"
      ],
      "metadata": {
        "id": "F2fwGSUrC0So"
      },
      "execution_count": 28,
      "outputs": []
    },
    {
      "cell_type": "code",
      "source": [
        "######################################\n",
        "# --- Agente 3: Redator do Post --- #\n",
        "######################################\n",
        "def agente_redator(topico, plano_de_post):\n",
        "    redator = Agent(\n",
        "        name=\"agente_redator\",\n",
        "        model=\"gemini-2.5-pro-preview-03-25\",\n",
        "        instruction=\"\"\"\n",
        "            Você é um Redator Criativo especializado em criar posts virais para redes sociais.\n",
        "            Você escreve posts para a empresa Alura, a maior escola online de tecnologia do Brasil.\n",
        "            Utilize o tema fornecido no plano de post e os pontos mais relevantes fornecidos e, com base nisso,\n",
        "            escreva um rascunho de post para Instagram sobre o tema indicado.\n",
        "            O post deve ser engajador, informativo, com linguagem simples e incluir 2 a 4 hashtags no final.\n",
        "            \"\"\",\n",
        "        description=\"Agente redator de posts engajadores para Instagram\"\n",
        "    )\n",
        "    entrada_do_agente_redator = f\"Tópico: {topico}\\nPlano de post: {plano_de_post}\"\n",
        "    # Executa o agente\n",
        "    rascunho = call_agent(redator, entrada_do_agente_redator)\n",
        "    return rascunho"
      ],
      "metadata": {
        "id": "2QWXVnJ1C6Ue"
      },
      "execution_count": 29,
      "outputs": []
    },
    {
      "cell_type": "code",
      "source": [
        "##########################################\n",
        "# --- Agente 4: Revisor de Qualidade --- #\n",
        "##########################################\n",
        "def agente_revisor(topico, rascunho_gerado):\n",
        "    revisor = Agent(\n",
        "        name=\"agente_revisor\",\n",
        "        model=\"gemini-2.5-pro-preview-03-25\",\n",
        "        instruction=\"\"\"\n",
        "            Você é um Editor e Revisor de Conteúdo meticuloso, especializado em posts para redes sociais, com foco no Instagram.\n",
        "            Por ter um público jovem, entre 18 e 30 anos, use um tom de escrita adequado.\n",
        "            Revise o rascunho de post de Instagram abaixo sobre o tópico indicado, verificando clareza, concisão, correção e tom.\n",
        "            Se o rascunho estiver bom, responda apenas 'O rascunho está ótimo e pronto para publicar!'.\n",
        "            Caso haja problemas, aponte-os e sugira melhorias.\n",
        "            \"\"\",\n",
        "        description=\"Agente revisor de post para redes sociais.\"\n",
        "    )\n",
        "    entrada_do_agente_revisor = f\"Tópico: {topico}\\nRascunho: {rascunho_gerado}\"\n",
        "    # Executa o agente\n",
        "    texto_revisado = call_agent(revisor, entrada_do_agente_revisor)\n",
        "    return texto_revisado"
      ],
      "metadata": {
        "id": "y2JjUZrPDAaF"
      },
      "execution_count": 30,
      "outputs": []
    },
    {
      "cell_type": "code",
      "source": [
        "data_de_hoje = date.today().strftime(\"%d/%m/%Y\")\n",
        "\n",
        "print(\"🚀 Iniciando o Sistema de Criação de Posts para Instagram com 4 Agentes 🚀\")\n",
        "\n",
        "# --- Obter o Tópico do Usuário ---\n",
        "topico = input(\"❓ Por favor, digite o TÓPICO sobre o qual você quer criar o post de tendências: \")\n",
        "\n",
        "# Inserir lógica do sistema de agentes ################################################\n",
        "if not topico:\n",
        "    print(\"Você esqueceu de digitar o tópico!\")\n",
        "else:\n",
        "    print(f\"Maravilha! Vamos então criar o post sobre novidades em {topico}\")\n",
        "\n",
        "    lancamentos_buscados = agente_buscador(topico, data_de_hoje)\n",
        "    print(\"\\n--- 📝 Resultado do Agente 1 (Buscador) ---\\n\")\n",
        "    display(to_markdown(lancamentos_buscados))\n",
        "    print(\"--------------------------------------------------------------\")\n",
        "\n",
        "    plano_de_post = agente_planejador(topico, lancamentos_buscados)\n",
        "    print(\"\\n--- 📝 Resultado do Agente 2 (Planejador) ---\\n\")\n",
        "    display(to_markdown(plano_de_post))\n",
        "    print(\"--------------------------------------------------------------\")\n",
        "\n",
        "    rascunho_de_post = agente_redator(topico, plano_de_post)\n",
        "    print(\"\\n--- 📝 Resultado do Agente 3 (Redator) ---\\n\")\n",
        "    display(to_markdown(rascunho_de_post))\n",
        "    print(\"--------------------------------------------------------------\")\n",
        "\n",
        "    post_final = agente_revisor(topico, rascunho_de_post)\n",
        "    print(\"\\n--- 📝 Resultado do Agente 4 (Revisor) ---\\n\")\n",
        "    display(to_markdown(post_final))\n",
        "    print(\"--------------------------------------------------------------\")"
      ],
      "metadata": {
        "colab": {
          "base_uri": "https://localhost:8080/",
          "height": 1000
        },
        "id": "zVB_m0yiDFZl",
        "outputId": "9d025771-e2e8-4cd5-85af-1443b83a41e6"
      },
      "execution_count": 31,
      "outputs": [
        {
          "output_type": "stream",
          "name": "stdout",
          "text": [
            "🚀 Iniciando o Sistema de Criação de Posts para Instagram com 4 Agentes 🚀\n",
            "❓ Por favor, digite o TÓPICO sobre o qual você quer criar o post de tendências: livros\n",
            "Maravilha! Vamos então criar o post sobre novidades em livros\n",
            "\n",
            "--- 📝 Resultado do Agente 1 (Buscador) ---\n",
            "\n"
          ]
        },
        {
          "output_type": "display_data",
          "data": {
            "text/plain": [
              "<IPython.core.display.Markdown object>"
            ],
            "text/markdown": "> Para encontrar os lançamentos de livros mais relevantes e recentes, vou fazer algumas pesquisas no Google focando em notícias e resenhas dos últimos meses.\n> \n> \n> Com base nas pesquisas, aqui estão alguns dos lançamentos de livros mais relevantes e comentados nos últimos meses:\n> \n> 1.  **O Roteiro do Amor**, de Ray Tavares (26 de maio de 2025): Um romance que acompanha Verônica Nakamura e Daniel Ortega em uma jornada para salvar a essência de um livro adaptado para o cinema, confrontando suas próprias emoções no processo.\n> \n> 2.  **Bruxa Rebelde (Mariposa Escarlate – Livro 2)**, de Kristen Ciccarelli (6 de maio de 2025): Rune Winters foge e planeja destruir as bruxas que ameaçam a República, com a tensão entre amor e dever se intensificando.\n> \n> 3.  **Mil Passos ao Sul**, de Cássia Benedetti (19 de maio de 2025): Uma história sobre amor, reconciliação e os riscos de abrir o coração, quando Cássia Benedetti reencontra seu primeiro amor após um e-mail constrangedor.\n> \n> 4.  **Imperfeitos**, de Christina Lauren: Olive se sente a gêmea azarada até que uma alergia a frutos do mar a salva de um desastre no casamento da irmã, levando a uma viagem ao Havaí com seu inimigo mortal, Ethan.\n> \n> 5.  **Não Pisque**, de Stephen King (27 de maio de 2025): A detetive Izzy Jaynes e Holly Gibney correm contra o tempo para impedir uma tragédia, com narrativas que testam os limites do medo e da justiça.\n> \n> Esses lançamentos abrangem diversos gêneros, desde romances emocionantes até thrillers de suspense, e parecem estar recebendo atenção significativa em notícias e resenhas.\n> \n"
          },
          "metadata": {}
        },
        {
          "output_type": "stream",
          "name": "stdout",
          "text": [
            "--------------------------------------------------------------\n",
            "\n",
            "--- 📝 Resultado do Agente 2 (Planejador) ---\n",
            "\n"
          ]
        },
        {
          "output_type": "display_data",
          "data": {
            "text/plain": [
              "<IPython.core.display.Markdown object>"
            ],
            "text/markdown": "> Okay, com base nos lançamentos de livros que você listou, vou criar um plano de conteúdo para cada um deles e, em seguida, escolher o tema mais relevante para um post.\n> \n> **1. O Roteiro do Amor, de Ray Tavares:**\n> \n> *   **Pontos Relevantes:**\n>     *   Romance com foco na jornada emocional dos personagens.\n>     *   Envolvimento com o mundo do cinema e adaptação de livros.\n>     *   Conflitos internos dos personagens Verônica e Daniel.\n> *   **Possíveis Assuntos para o Post:**\n>     *   Apresentar os personagens principais e seus desafios.\n>     *   Discutir a temática da adaptação de livros para o cinema.\n>     *   Explorar o romance e a evolução emocional dos protagonistas.\n>     *   Citar trechos impactantes do livro.\n> \n> **2. Bruxa Rebelde (Mariposa Escarlate – Livro 2), de Kristen Ciccarelli:**\n> \n> *   **Pontos Relevantes:**\n>     *   Continuação de uma série de fantasia com temática de bruxas.\n>     *   Conflito entre amor e dever na jornada da protagonista.\n>     *   Elementos de fuga, vingança e destruição.\n> *   **Possíveis Assuntos para o Post:**\n>     *   Resumo do primeiro livro (Mariposa Escarlate) para contextualizar.\n>     *   Apresentar a trama e os novos desafios enfrentados por Rune.\n>     *   Discutir o dilema moral da protagonista.\n>     *   Explorar o universo da série e seus elementos mágicos.\n> \n> **3. Mil Passos ao Sul, de Cássia Benedetti:**\n> \n> *   **Pontos Relevantes:**\n>     *   Romance com foco em reencontros e segundas chances.\n>     *   Temas de amor, reconciliação e vulnerabilidade.\n>     *   Envolvimento com um e-mail constrangedor como ponto de partida.\n> *   **Possíveis Assuntos para o Post:**\n>     *   Apresentar a premissa do reencontro inesperado.\n>     *   Discutir os temas de amor, perda e superação.\n>     *   Explorar a jornada de autoconhecimento da protagonista.\n>     *   Citar trechos que abordam os riscos de se abrir para o amor.\n> \n> **4. Imperfeitos, de Christina Lauren:**\n> \n> *   **Pontos Relevantes:**\n>     *   Comédia romântica com clichês divertidos.\n>     *   Inimigos que são forçados a conviver juntos.\n>     *   Cenário paradisíaco no Havaí.\n> *   **Possíveis Assuntos para o Post:**\n>     *   Apresentar a premissa da \"irmã azarada\" e do \"inimigo mortal\".\n>     *   Discutir a dinâmica entre os protagonistas e o humor do livro.\n>     *   Explorar o cenário do Havaí como pano de fundo para o romance.\n>     *   Indicar o livro para fãs de comédias românticas leves e divertidas.\n> \n> **5. Não Pisque, de Stephen King:**\n> \n> *   **Pontos Relevantes:**\n>     *   Thriller de suspense com elementos de terror.\n>     *   Envolvimento das detetives Izzy Jaynes e Holly Gibney.\n>     *   Narrativas que exploram o medo e a justiça.\n> *   **Possíveis Assuntos para o Post:**\n>     *   Apresentar a trama e os elementos de suspense.\n>     *   Discutir os temas de medo, justiça e investigação criminal.\n>     *   Explorar a atmosfera sombria e a escrita característica de Stephen King.\n>     *   Indicar o livro para fãs de thrillers e obras do autor.\n> \n> **Escolha do Tema Mais Relevante e Plano de Conteúdo:**\n> \n> Considerando a data atual (19 de maio de 2025) e os lançamentos mais recentes, o livro \"**Mil Passos ao Sul**, de Cássia Benedetti\" parece ser um tema relevante para um post. Romance com foco em reencontros, amor e reconciliação podem atrair muitos leitores.\n> \n> **Plano de Conteúdo para \"Mil Passos ao Sul\":**\n> \n> *   **Título do Post:** \"Mil Passos ao Sul: Uma Jornada de Amor e Reconciliação\"\n> *   **Introdução:**\n>     *   Apresentar o livro como um romance emocionante sobre reencontros.\n>     *   Mencionar a autora Cássia Benedetti e seu estilo de escrita.\n>     *   Despertar a curiosidade do leitor sobre o \"e-mail constrangedor\".\n> *   **Desenvolvimento:**\n>     *   Resumir a trama principal sem dar spoilers importantes.\n>     *   Discutir os temas centrais: amor, reconciliação, segundas chances.\n>     *   Analisar os personagens principais e suas motivações.\n>     *   Citar trechos do livro que ilustrem a profundidade emocional da história.\n> *   **Considerações adicionais:**\n>     *   Pesquisar sobre a recepção do livro pela crítica e pelos leitores.\n>     *   Incluir informações sobre onde comprar o livro (link para livrarias online).\n> *   **Conclusão:**\n>     *   Reafirmar a relevância do livro para os fãs de romance.\n>     *   Incentivar os leitores a compartilharem suas opiniões.\n> *   **Recursos Visuais:**\n>     *   Capa do livro em destaque.\n>     *   Fotos da autora (se disponíveis).\n>     *   Imagens que remetam aos temas do livro (amor, reencontros).\n> \n> Antes de prosseguir com a redação do post, posso pesquisar mais a fundo sobre \"Mil Passos ao Sul\" e Cássia Benedetti para enriquecer o conteúdo. Você gostaria que eu fizesse isso?\n> \n> Ótimo! Com as informações adicionais obtidas através da pesquisa, posso refinar ainda mais o plano de conteúdo para o post sobre \"Mil Passos ao Sul\".\n> \n> **Informações Adicionais Relevantes:**\n> \n> *   **Sinopse Detalhada:** Cássia Benedetti, aos 32 anos, tem uma carreira estável, amigas incríveis e evita relacionamentos sérios devido a experiências passadas. Um e-mail antigo e constrangedor é enviado por engano para Estevão Valim, seu primeiro amor, que retorna à cidade após 13 anos. Cássia precisa lidar com reencontros, jantares constrangedores e sentimentos que julgava superados.\n> *   **Temas Centrais:** Reencontros, amadurecimento, segundas chances, coragem de reescrever o futuro.\n> *   **Elementos Adicionais:** Uma codorna de estimação (detalhe peculiar e divertido).\n> *   **Recepção:** Avaliações positivas dos leitores destacam o humor, os personagens cativantes e a leveza da história.\n> *   **Autora:** Camila Antunes já é conhecida pelo sucesso \"Deixa Nevar\". Ela escreve romances que entrelaçam fé, amor e leveza, inspirados em sua vida na Região dos Lagos (RJ) e sua participação em uma igreja Batista.\n> *   **Onde Comprar:** Disponível em diversas livrarias online e físicas (Amazon, Livrarias Curitiba, etc.).\n> \n> **Plano de Conteúdo Revisado para \"Mil Passos ao Sul\":**\n> \n> *   **Título do Post:** \"Mil Passos ao Sul: Uma Jornada de Amor e Reconciliação com Uma Codorna Travessa no Meio do Caminho!\" (Título mais chamativo e que destaca o elemento peculiar da codorna).\n> *   **Introdução:**\n>     *   Apresentar o livro como uma comédia romântica sobre reencontros e segundas chances.\n>     *   Mencionar Camila Antunes, autora de \"Deixa Nevar\", e seu estilo leve e divertido.\n>     *   Despertar a curiosidade do leitor sobre o e-mail constrangedor e o retorno do primeiro amor.\n> *   **Desenvolvimento:**\n>     *   Resumir a trama principal, destacando os elementos de humor e os desafios enfrentados por Cássia.\n>     *   Discutir os temas centrais: amor, reconciliação, amadurecimento e a coragem de se abrir para novas oportunidades.\n>     *   Apresentar os personagens principais, com foco em Cássia e Estevão, explorando suas motivações e conflitos.\n>     *   Mencionar a codorna de estimação como um elemento cômico e peculiar da história.\n>     *   Citar trechos do livro que ilustrem a profundidade emocional e o humor da narrativa.\n> *   **Considerações adicionais:**\n>     *   Incluir trechos de resenhas positivas, destacando os pontos fortes do livro.\n>     *   Informar onde comprar o livro, com links diretos para as principais livrarias online.\n>     *   Mencionar a edição especial limitada com vela aromática e marcador (se aplicável).\n> *   **Conclusão:**\n>     *   Reafirmar a relevância do livro para os fãs de comédia romântica e histórias sobre segundas chances.\n>     *   Incentivar os leitores a compartilharem suas experiências e opiniões sobre o livro.\n> *   **Recursos Visuais:**\n>     *   Capa do livro em destaque.\n>     *   Foto da autora Camila Antunes.\n>     *   Imagem de uma codorna (para ilustrar o elemento cômico).\n>     *   GIFs ou memes relacionados a comédias românticas e reencontros.\n> \n> Com este plano de conteúdo revisado, o post sobre \"Mil Passos ao Sul\" tem o potencial de atrair um grande público e gerar engajamento nas redes sociais.\n> \n> Podemos iniciar a redação do post? Ou você gostaria de fazer mais alguma pesquisa ou ajuste no plano?\n> \n"
          },
          "metadata": {}
        },
        {
          "output_type": "stream",
          "name": "stderr",
          "text": [
            "Exception in thread Thread-12 (_asyncio_thread_main):\n",
            "Traceback (most recent call last):\n",
            "  File \"/usr/lib/python3.11/threading.py\", line 1045, in _bootstrap_inner\n",
            "    self.run()\n",
            "  File \"/usr/lib/python3.11/threading.py\", line 982, in run\n",
            "    self._target(*self._args, **self._kwargs)\n",
            "  File \"/usr/local/lib/python3.11/dist-packages/google/adk/runners.py\", line 138, in _asyncio_thread_main\n",
            "    asyncio.run(_invoke_run_async())\n",
            "  File \"/usr/lib/python3.11/asyncio/runners.py\", line 190, in run\n",
            "    return runner.run(main)\n",
            "           ^^^^^^^^^^^^^^^^\n",
            "  File \"/usr/lib/python3.11/asyncio/runners.py\", line 118, in run\n",
            "    return self._loop.run_until_complete(task)\n",
            "           ^^^^^^^^^^^^^^^^^^^^^^^^^^^^^^^^^^^\n",
            "  File \"/usr/lib/python3.11/asyncio/base_events.py\", line 654, in run_until_complete\n",
            "    return future.result()\n",
            "           ^^^^^^^^^^^^^^^\n",
            "  File \"/usr/local/lib/python3.11/dist-packages/google/adk/runners.py\", line 126, in _invoke_run_async\n",
            "    async for event in self.run_async(\n",
            "  File \"/usr/local/lib/python3.11/dist-packages/google/adk/runners.py\", line 197, in run_async\n",
            "    async for event in invocation_context.agent.run_async(invocation_context):\n",
            "  File \"/usr/local/lib/python3.11/dist-packages/google/adk/agents/base_agent.py\", line 133, in run_async\n",
            "    async for event in self._run_async_impl(ctx):\n",
            "  File \"/usr/local/lib/python3.11/dist-packages/google/adk/agents/llm_agent.py\", line 246, in _run_async_impl\n",
            "    async for event in self._llm_flow.run_async(ctx):\n",
            "  File \"/usr/local/lib/python3.11/dist-packages/google/adk/flows/llm_flows/base_llm_flow.py\", line 243, in run_async\n",
            "    async for event in self._run_one_step_async(invocation_context):\n",
            "  File \"/usr/local/lib/python3.11/dist-packages/google/adk/flows/llm_flows/base_llm_flow.py\", line 268, in _run_one_step_async\n",
            "    async for llm_response in self._call_llm_async(\n",
            "  File \"/usr/local/lib/python3.11/dist-packages/google/adk/flows/llm_flows/base_llm_flow.py\", line 483, in _call_llm_async\n",
            "    async for llm_response in llm.generate_content_async(\n",
            "  File \"/usr/local/lib/python3.11/dist-packages/google/adk/models/google_llm.py\", line 140, in generate_content_async\n",
            "    response = await self.api_client.aio.models.generate_content(\n",
            "               ^^^^^^^^^^^^^^^^^^^^^^^^^^^^^^^^^^^^^^^^^^^^^^^^^^\n",
            "  File \"/usr/local/lib/python3.11/dist-packages/google/genai/models.py\", line 6672, in generate_content\n",
            "    response = await self._generate_content(\n",
            "               ^^^^^^^^^^^^^^^^^^^^^^^^^^^^^\n",
            "  File \"/usr/local/lib/python3.11/dist-packages/google/genai/models.py\", line 5674, in _generate_content\n",
            "    response_dict = await self._api_client.async_request(\n",
            "                    ^^^^^^^^^^^^^^^^^^^^^^^^^^^^^^^^^^^^^\n",
            "  File \"/usr/local/lib/python3.11/dist-packages/google/genai/_api_client.py\", line 789, in async_request\n",
            "    result = await self._async_request(http_request=http_request, stream=False)\n",
            "             ^^^^^^^^^^^^^^^^^^^^^^^^^^^^^^^^^^^^^^^^^^^^^^^^^^^^^^^^^^^^^^^^^^\n",
            "  File \"/usr/local/lib/python3.11/dist-packages/google/genai/_api_client.py\", line 733, in _async_request\n",
            "    await errors.APIError.raise_for_async_response(response)\n",
            "  File \"/usr/local/lib/python3.11/dist-packages/google/genai/errors.py\", line 129, in raise_for_async_response\n",
            "    raise ClientError(status_code, response_json, response)\n",
            "google.genai.errors.ClientError: 429 RESOURCE_EXHAUSTED. {'error': {'code': 429, 'message': \"Gemini 2.5 Pro Preview doesn't have a free quota tier. For more information on this error, head to: https://ai.google.dev/gemini-api/docs/rate-limits.\", 'status': 'RESOURCE_EXHAUSTED', 'details': [{'@type': 'type.googleapis.com/google.rpc.QuotaFailure', 'violations': [{'quotaMetric': 'generativelanguage.googleapis.com/generate_content_free_tier_input_token_count', 'quotaId': 'GenerateContentInputTokensPerModelPerDay-FreeTier', 'quotaDimensions': {'location': 'global', 'model': 'gemini-2.5-pro-exp'}}, {'quotaMetric': 'generativelanguage.googleapis.com/generate_content_free_tier_input_token_count', 'quotaId': 'GenerateContentInputTokensPerModelPerMinute-FreeTier', 'quotaDimensions': {'location': 'global', 'model': 'gemini-2.5-pro-exp'}}, {'quotaMetric': 'generativelanguage.googleapis.com/generate_content_free_tier_requests', 'quotaId': 'GenerateRequestsPerMinutePerProjectPerModel-FreeTier', 'quotaDimensions': {'location': 'global', 'model': 'gemini-2.5-pro-exp'}}, {'quotaMetric': 'generativelanguage.googleapis.com/generate_content_free_tier_requests', 'quotaId': 'GenerateRequestsPerDayPerProjectPerModel-FreeTier', 'quotaDimensions': {'model': 'gemini-2.5-pro-exp', 'location': 'global'}}]}, {'@type': 'type.googleapis.com/google.rpc.Help', 'links': [{'description': 'Learn more about Gemini API quotas', 'url': 'https://ai.google.dev/gemini-api/docs/rate-limits'}]}, {'@type': 'type.googleapis.com/google.rpc.RetryInfo', 'retryDelay': '10s'}]}}\n"
          ]
        },
        {
          "output_type": "stream",
          "name": "stdout",
          "text": [
            "--------------------------------------------------------------\n",
            "\n",
            "--- 📝 Resultado do Agente 3 (Redator) ---\n",
            "\n"
          ]
        },
        {
          "output_type": "display_data",
          "data": {
            "text/plain": [
              "<IPython.core.display.Markdown object>"
            ],
            "text/markdown": ""
          },
          "metadata": {}
        },
        {
          "output_type": "stream",
          "name": "stdout",
          "text": [
            "--------------------------------------------------------------\n"
          ]
        },
        {
          "output_type": "stream",
          "name": "stderr",
          "text": [
            "ERROR:asyncio:Task exception was never retrieved\n",
            "future: <Task finished name='Task-22' coro=<AsyncClient.aclose() done, defined at /usr/local/lib/python3.11/dist-packages/httpx/_client.py:1978> exception=RuntimeError('Event loop is closed')>\n",
            "Traceback (most recent call last):\n",
            "  File \"/usr/local/lib/python3.11/dist-packages/httpx/_client.py\", line 1985, in aclose\n",
            "    await self._transport.aclose()\n",
            "  File \"/usr/local/lib/python3.11/dist-packages/httpx/_transports/default.py\", line 406, in aclose\n",
            "    await self._pool.aclose()\n",
            "  File \"/usr/local/lib/python3.11/dist-packages/httpcore/_async/connection_pool.py\", line 353, in aclose\n",
            "    await self._close_connections(closing_connections)\n",
            "  File \"/usr/local/lib/python3.11/dist-packages/httpcore/_async/connection_pool.py\", line 345, in _close_connections\n",
            "    await connection.aclose()\n",
            "  File \"/usr/local/lib/python3.11/dist-packages/httpcore/_async/connection.py\", line 173, in aclose\n",
            "    await self._connection.aclose()\n",
            "  File \"/usr/local/lib/python3.11/dist-packages/httpcore/_async/http11.py\", line 258, in aclose\n",
            "    await self._network_stream.aclose()\n",
            "  File \"/usr/local/lib/python3.11/dist-packages/httpcore/_backends/anyio.py\", line 53, in aclose\n",
            "    await self._stream.aclose()\n",
            "  File \"/usr/local/lib/python3.11/dist-packages/anyio/streams/tls.py\", line 216, in aclose\n",
            "    await self.transport_stream.aclose()\n",
            "  File \"/usr/local/lib/python3.11/dist-packages/anyio/_backends/_asyncio.py\", line 1314, in aclose\n",
            "    self._transport.close()\n",
            "  File \"/usr/lib/python3.11/asyncio/selector_events.py\", line 864, in close\n",
            "    self._loop.call_soon(self._call_connection_lost, None)\n",
            "  File \"/usr/lib/python3.11/asyncio/base_events.py\", line 762, in call_soon\n",
            "    self._check_closed()\n",
            "  File \"/usr/lib/python3.11/asyncio/base_events.py\", line 520, in _check_closed\n",
            "    raise RuntimeError('Event loop is closed')\n",
            "RuntimeError: Event loop is closed\n",
            "Exception in thread Thread-14 (_asyncio_thread_main):\n",
            "Traceback (most recent call last):\n",
            "  File \"/usr/lib/python3.11/threading.py\", line 1045, in _bootstrap_inner\n",
            "    self.run()\n",
            "  File \"/usr/lib/python3.11/threading.py\", line 982, in run\n",
            "    self._target(*self._args, **self._kwargs)\n",
            "  File \"/usr/local/lib/python3.11/dist-packages/google/adk/runners.py\", line 138, in _asyncio_thread_main\n",
            "    asyncio.run(_invoke_run_async())\n",
            "  File \"/usr/lib/python3.11/asyncio/runners.py\", line 190, in run\n",
            "    return runner.run(main)\n",
            "           ^^^^^^^^^^^^^^^^\n",
            "  File \"/usr/lib/python3.11/asyncio/runners.py\", line 118, in run\n",
            "    return self._loop.run_until_complete(task)\n",
            "           ^^^^^^^^^^^^^^^^^^^^^^^^^^^^^^^^^^^\n",
            "  File \"/usr/lib/python3.11/asyncio/base_events.py\", line 654, in run_until_complete\n",
            "    return future.result()\n",
            "           ^^^^^^^^^^^^^^^\n",
            "  File \"/usr/local/lib/python3.11/dist-packages/google/adk/runners.py\", line 126, in _invoke_run_async\n",
            "    async for event in self.run_async(\n",
            "  File \"/usr/local/lib/python3.11/dist-packages/google/adk/runners.py\", line 197, in run_async\n",
            "    async for event in invocation_context.agent.run_async(invocation_context):\n",
            "  File \"/usr/local/lib/python3.11/dist-packages/google/adk/agents/base_agent.py\", line 133, in run_async\n",
            "    async for event in self._run_async_impl(ctx):\n",
            "  File \"/usr/local/lib/python3.11/dist-packages/google/adk/agents/llm_agent.py\", line 246, in _run_async_impl\n",
            "    async for event in self._llm_flow.run_async(ctx):\n",
            "  File \"/usr/local/lib/python3.11/dist-packages/google/adk/flows/llm_flows/base_llm_flow.py\", line 243, in run_async\n",
            "    async for event in self._run_one_step_async(invocation_context):\n",
            "  File \"/usr/local/lib/python3.11/dist-packages/google/adk/flows/llm_flows/base_llm_flow.py\", line 268, in _run_one_step_async\n",
            "    async for llm_response in self._call_llm_async(\n",
            "  File \"/usr/local/lib/python3.11/dist-packages/google/adk/flows/llm_flows/base_llm_flow.py\", line 483, in _call_llm_async\n",
            "    async for llm_response in llm.generate_content_async(\n",
            "  File \"/usr/local/lib/python3.11/dist-packages/google/adk/models/google_llm.py\", line 140, in generate_content_async\n",
            "    response = await self.api_client.aio.models.generate_content(\n",
            "               ^^^^^^^^^^^^^^^^^^^^^^^^^^^^^^^^^^^^^^^^^^^^^^^^^^\n",
            "  File \"/usr/local/lib/python3.11/dist-packages/google/genai/models.py\", line 6672, in generate_content\n",
            "    response = await self._generate_content(\n",
            "               ^^^^^^^^^^^^^^^^^^^^^^^^^^^^^\n",
            "  File \"/usr/local/lib/python3.11/dist-packages/google/genai/models.py\", line 5674, in _generate_content\n",
            "    response_dict = await self._api_client.async_request(\n",
            "                    ^^^^^^^^^^^^^^^^^^^^^^^^^^^^^^^^^^^^^\n",
            "  File \"/usr/local/lib/python3.11/dist-packages/google/genai/_api_client.py\", line 789, in async_request\n",
            "    result = await self._async_request(http_request=http_request, stream=False)\n",
            "             ^^^^^^^^^^^^^^^^^^^^^^^^^^^^^^^^^^^^^^^^^^^^^^^^^^^^^^^^^^^^^^^^^^\n",
            "  File \"/usr/local/lib/python3.11/dist-packages/google/genai/_api_client.py\", line 733, in _async_request\n",
            "    await errors.APIError.raise_for_async_response(response)\n",
            "  File \"/usr/local/lib/python3.11/dist-packages/google/genai/errors.py\", line 129, in raise_for_async_response\n",
            "    raise ClientError(status_code, response_json, response)\n",
            "google.genai.errors.ClientError: 429 RESOURCE_EXHAUSTED. {'error': {'code': 429, 'message': \"Gemini 2.5 Pro Preview doesn't have a free quota tier. For more information on this error, head to: https://ai.google.dev/gemini-api/docs/rate-limits.\", 'status': 'RESOURCE_EXHAUSTED', 'details': [{'@type': 'type.googleapis.com/google.rpc.QuotaFailure', 'violations': [{'quotaMetric': 'generativelanguage.googleapis.com/generate_content_free_tier_input_token_count', 'quotaId': 'GenerateContentInputTokensPerModelPerDay-FreeTier', 'quotaDimensions': {'location': 'global', 'model': 'gemini-2.5-pro-exp'}}, {'quotaMetric': 'generativelanguage.googleapis.com/generate_content_free_tier_input_token_count', 'quotaId': 'GenerateContentInputTokensPerModelPerMinute-FreeTier', 'quotaDimensions': {'location': 'global', 'model': 'gemini-2.5-pro-exp'}}, {'quotaMetric': 'generativelanguage.googleapis.com/generate_content_free_tier_requests', 'quotaId': 'GenerateRequestsPerMinutePerProjectPerModel-FreeTier', 'quotaDimensions': {'location': 'global', 'model': 'gemini-2.5-pro-exp'}}, {'quotaMetric': 'generativelanguage.googleapis.com/generate_content_free_tier_requests', 'quotaId': 'GenerateRequestsPerDayPerProjectPerModel-FreeTier', 'quotaDimensions': {'location': 'global', 'model': 'gemini-2.5-pro-exp'}}]}, {'@type': 'type.googleapis.com/google.rpc.Help', 'links': [{'description': 'Learn more about Gemini API quotas', 'url': 'https://ai.google.dev/gemini-api/docs/rate-limits'}]}, {'@type': 'type.googleapis.com/google.rpc.RetryInfo', 'retryDelay': '9s'}]}}\n"
          ]
        },
        {
          "output_type": "stream",
          "name": "stdout",
          "text": [
            "\n",
            "--- 📝 Resultado do Agente 4 (Revisor) ---\n",
            "\n"
          ]
        },
        {
          "output_type": "display_data",
          "data": {
            "text/plain": [
              "<IPython.core.display.Markdown object>"
            ],
            "text/markdown": ""
          },
          "metadata": {}
        },
        {
          "output_type": "stream",
          "name": "stdout",
          "text": [
            "--------------------------------------------------------------\n"
          ]
        }
      ]
    },
    {
      "cell_type": "markdown",
      "source": [],
      "metadata": {
        "id": "AMVeM_-eCB5f"
      }
    }
  ]
}