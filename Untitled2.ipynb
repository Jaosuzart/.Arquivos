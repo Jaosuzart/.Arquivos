{
  "nbformat": 4,
  "nbformat_minor": 0,
  "metadata": {
    "colab": {
      "provenance": [],
      "authorship_tag": "ABX9TyPJhZCKRsqp/n6QIJ0143Bl",
      "include_colab_link": true
    },
    "kernelspec": {
      "name": "python3",
      "display_name": "Python 3"
    },
    "language_info": {
      "name": "python"
    }
  },
  "cells": [
    {
      "cell_type": "markdown",
      "metadata": {
        "id": "view-in-github",
        "colab_type": "text"
      },
      "source": [
        "<a href=\"https://colab.research.google.com/github/Jaosuzart/.Arquivos/blob/main/Untitled2.ipynb\" target=\"_parent\"><img src=\"https://colab.research.google.com/assets/colab-badge.svg\" alt=\"Open In Colab\"/></a>"
      ]
    },
    {
      "cell_type": "code",
      "execution_count": null,
      "metadata": {
        "colab": {
          "base_uri": "https://localhost:8080/"
        },
        "id": "xNigLfYNaox4",
        "outputId": "8d48289c-eff8-4773-e82f-79f7c6a231c4"
      },
      "outputs": [
        {
          "output_type": "stream",
          "name": "stdout",
          "text": [
            "Requirement already satisfied: google-genai in /usr/local/lib/python3.11/dist-packages (1.15.0)\n",
            "Requirement already satisfied: anyio<5.0.0,>=4.8.0 in /usr/local/lib/python3.11/dist-packages (from google-genai) (4.9.0)\n",
            "Requirement already satisfied: google-auth<3.0.0,>=2.14.1 in /usr/local/lib/python3.11/dist-packages (from google-genai) (2.38.0)\n",
            "Requirement already satisfied: httpx<1.0.0,>=0.28.1 in /usr/local/lib/python3.11/dist-packages (from google-genai) (0.28.1)\n",
            "Requirement already satisfied: pydantic<3.0.0,>=2.0.0 in /usr/local/lib/python3.11/dist-packages (from google-genai) (2.11.4)\n",
            "Requirement already satisfied: requests<3.0.0,>=2.28.1 in /usr/local/lib/python3.11/dist-packages (from google-genai) (2.32.3)\n",
            "Requirement already satisfied: websockets<15.1.0,>=13.0.0 in /usr/local/lib/python3.11/dist-packages (from google-genai) (15.0.1)\n",
            "Requirement already satisfied: typing-extensions<5.0.0,>=4.11.0 in /usr/local/lib/python3.11/dist-packages (from google-genai) (4.13.2)\n",
            "Requirement already satisfied: idna>=2.8 in /usr/local/lib/python3.11/dist-packages (from anyio<5.0.0,>=4.8.0->google-genai) (3.10)\n",
            "Requirement already satisfied: sniffio>=1.1 in /usr/local/lib/python3.11/dist-packages (from anyio<5.0.0,>=4.8.0->google-genai) (1.3.1)\n",
            "Requirement already satisfied: cachetools<6.0,>=2.0.0 in /usr/local/lib/python3.11/dist-packages (from google-auth<3.0.0,>=2.14.1->google-genai) (5.5.2)\n",
            "Requirement already satisfied: pyasn1-modules>=0.2.1 in /usr/local/lib/python3.11/dist-packages (from google-auth<3.0.0,>=2.14.1->google-genai) (0.4.2)\n",
            "Requirement already satisfied: rsa<5,>=3.1.4 in /usr/local/lib/python3.11/dist-packages (from google-auth<3.0.0,>=2.14.1->google-genai) (4.9.1)\n",
            "Requirement already satisfied: certifi in /usr/local/lib/python3.11/dist-packages (from httpx<1.0.0,>=0.28.1->google-genai) (2025.4.26)\n",
            "Requirement already satisfied: httpcore==1.* in /usr/local/lib/python3.11/dist-packages (from httpx<1.0.0,>=0.28.1->google-genai) (1.0.9)\n",
            "Requirement already satisfied: h11>=0.16 in /usr/local/lib/python3.11/dist-packages (from httpcore==1.*->httpx<1.0.0,>=0.28.1->google-genai) (0.16.0)\n",
            "Requirement already satisfied: annotated-types>=0.6.0 in /usr/local/lib/python3.11/dist-packages (from pydantic<3.0.0,>=2.0.0->google-genai) (0.7.0)\n",
            "Requirement already satisfied: pydantic-core==2.33.2 in /usr/local/lib/python3.11/dist-packages (from pydantic<3.0.0,>=2.0.0->google-genai) (2.33.2)\n",
            "Requirement already satisfied: typing-inspection>=0.4.0 in /usr/local/lib/python3.11/dist-packages (from pydantic<3.0.0,>=2.0.0->google-genai) (0.4.0)\n",
            "Requirement already satisfied: charset-normalizer<4,>=2 in /usr/local/lib/python3.11/dist-packages (from requests<3.0.0,>=2.28.1->google-genai) (3.4.2)\n",
            "Requirement already satisfied: urllib3<3,>=1.21.1 in /usr/local/lib/python3.11/dist-packages (from requests<3.0.0,>=2.28.1->google-genai) (2.4.0)\n",
            "Requirement already satisfied: pyasn1<0.7.0,>=0.6.1 in /usr/local/lib/python3.11/dist-packages (from pyasn1-modules>=0.2.1->google-auth<3.0.0,>=2.14.1->google-genai) (0.6.1)\n"
          ]
        }
      ],
      "source": [
        "!pip install google-genai\n"
      ]
    },
    {
      "cell_type": "code",
      "source": [
        "import os\n",
        "from google.colab import userdata\n",
        "\n",
        "os.environ['GOOGLE_API_KEY'] = userdata.get('GOOGLE_API_KEY')"
      ],
      "metadata": {
        "id": "YfT3khP2e-vH"
      },
      "execution_count": null,
      "outputs": []
    },
    {
      "cell_type": "code",
      "source": [
        "from google import genai\n",
        "client = genai.Client()\n"
      ],
      "metadata": {
        "id": "erqp1WYMfaHW"
      },
      "execution_count": null,
      "outputs": []
    },
    {
      "cell_type": "code",
      "source": [
        "for model in client.models.list():\n",
        "    print(model.name)\n"
      ],
      "metadata": {
        "colab": {
          "base_uri": "https://localhost:8080/"
        },
        "id": "XyKQkG71fstm",
        "outputId": "02d9ba28-7375-4d20-b530-de02e54c2785"
      },
      "execution_count": null,
      "outputs": [
        {
          "output_type": "stream",
          "name": "stdout",
          "text": [
            "models/embedding-gecko-001\n",
            "models/gemini-1.0-pro-vision-latest\n",
            "models/gemini-pro-vision\n",
            "models/gemini-1.5-pro-latest\n",
            "models/gemini-1.5-pro-001\n",
            "models/gemini-1.5-pro-002\n",
            "models/gemini-1.5-pro\n",
            "models/gemini-1.5-flash-latest\n",
            "models/gemini-1.5-flash-001\n",
            "models/gemini-1.5-flash-001-tuning\n",
            "models/gemini-1.5-flash\n",
            "models/gemini-1.5-flash-002\n",
            "models/gemini-1.5-flash-8b\n",
            "models/gemini-1.5-flash-8b-001\n",
            "models/gemini-1.5-flash-8b-latest\n",
            "models/gemini-1.5-flash-8b-exp-0827\n",
            "models/gemini-1.5-flash-8b-exp-0924\n",
            "models/gemini-2.5-pro-exp-03-25\n",
            "models/gemini-2.5-pro-preview-03-25\n",
            "models/gemini-2.5-flash-preview-04-17\n",
            "models/gemini-2.5-flash-preview-04-17-thinking\n",
            "models/gemini-2.5-pro-preview-05-06\n",
            "models/gemini-2.0-flash-exp\n",
            "models/gemini-2.0-flash\n",
            "models/gemini-2.0-flash-001\n",
            "models/gemini-2.0-flash-exp-image-generation\n",
            "models/gemini-2.0-flash-lite-001\n",
            "models/gemini-2.0-flash-lite\n",
            "models/gemini-2.0-flash-preview-image-generation\n",
            "models/gemini-2.0-flash-lite-preview-02-05\n",
            "models/gemini-2.0-flash-lite-preview\n",
            "models/gemini-2.0-pro-exp\n",
            "models/gemini-2.0-pro-exp-02-05\n",
            "models/gemini-exp-1206\n",
            "models/gemini-2.0-flash-thinking-exp-01-21\n",
            "models/gemini-2.0-flash-thinking-exp\n",
            "models/gemini-2.0-flash-thinking-exp-1219\n",
            "models/learnlm-2.0-flash-experimental\n",
            "models/gemma-3-1b-it\n",
            "models/gemma-3-4b-it\n",
            "models/gemma-3-12b-it\n",
            "models/gemma-3-27b-it\n",
            "models/embedding-001\n",
            "models/text-embedding-004\n",
            "models/gemini-embedding-exp-03-07\n",
            "models/gemini-embedding-exp\n",
            "models/aqa\n",
            "models/imagen-3.0-generate-002\n",
            "models/gemini-2.0-flash-live-001\n"
          ]
        }
      ]
    },
    {
      "cell_type": "code",
      "source": [
        "modelo = \"gemini-2.0-flash\"\n",
        "resposta = client.models.generate_content(model=modelo,\n",
        "                                          contents= \"Qual é a empresa por de trás do Gemini?\")"
      ],
      "metadata": {
        "id": "HCw8KKSJiPiq"
      },
      "execution_count": null,
      "outputs": []
    },
    {
      "cell_type": "code",
      "source": [
        "resposta.text"
      ],
      "metadata": {
        "colab": {
          "base_uri": "https://localhost:8080/",
          "height": 35
        },
        "id": "-Jx7BPGKjIIR",
        "outputId": "73b2bf15-1362-4c47-ca02-46cea6a74af0"
      },
      "execution_count": null,
      "outputs": [
        {
          "output_type": "execute_result",
          "data": {
            "text/plain": [
              "'O Gemini é um modelo de inteligência artificial desenvolvido pelo **Google**.\\n'"
            ],
            "application/vnd.google.colaboratory.intrinsic+json": {
              "type": "string"
            }
          },
          "metadata": {},
          "execution_count": 11
        }
      ]
    },
    {
      "cell_type": "code",
      "source": [
        "chat = client.chats.create(model = modelo )\n",
        "resposta = chat.send_message(\"Oi, como você está?\")\n",
        "resposta.text"
      ],
      "metadata": {
        "colab": {
          "base_uri": "https://localhost:8080/",
          "height": 35
        },
        "id": "sveqgIoTjNkw",
        "outputId": "abba5b1b-802b-41ac-f481-55415ab09f82"
      },
      "execution_count": null,
      "outputs": [
        {
          "output_type": "execute_result",
          "data": {
            "text/plain": [
              "'Olá! Eu estou bem, obrigada por perguntar. Como você está? 😊\\n'"
            ],
            "application/vnd.google.colaboratory.intrinsic+json": {
              "type": "string"
            }
          },
          "metadata": {},
          "execution_count": 12
        }
      ]
    },
    {
      "cell_type": "code",
      "source": [
        "resposta = chat.send_message(\"O que é Inteligência Artificial e quais sao as mulheres pioneiras nisso?\")\n",
        "\n",
        "resposta.text"
      ],
      "metadata": {
        "colab": {
          "base_uri": "https://localhost:8080/",
          "height": 556
        },
        "id": "X7wcDBfCjl2x",
        "outputId": "900a3d39-03e7-422d-b4f9-1d91fd982a50"
      },
      "execution_count": null,
      "outputs": [
        {
          "output_type": "execute_result",
          "data": {
            "text/plain": [
              "'Ótima pergunta! Vamos lá:\\n\\n**O que é Inteligência Artificial (IA)?**\\n\\nInteligência Artificial, em termos simples, é a capacidade de um sistema computacional (um programa de computador, um robô, etc.) de realizar tarefas que normalmente exigiriam inteligência humana. Isso inclui coisas como:\\n\\n*   **Aprender:** Analisar dados e melhorar seu desempenho com o tempo.\\n*   **Raciocinar:** Tirar conclusões lógicas a partir de informações.\\n*   **Resolver problemas:** Encontrar soluções para desafios complexos.\\n*   **Perceber:** Interpretar informações sensoriais, como imagens, sons e texto.\\n*   **Entender linguagem natural:** Compreender e responder à linguagem humana.\\n\\nA IA é um campo vasto e interdisciplinar, que envolve ciência da computação, matemática, estatística, psicologia, filosofia e outras áreas. Ela é usada em diversas aplicações, desde assistentes virtuais e carros autônomos até diagnóstico médico e análise financeira.\\n\\n**Mulheres Pioneiras na Inteligência Artificial:**\\n\\nA história da IA muitas vezes negligencia as contribuições cruciais de mulheres. Aqui estão algumas pioneiras importantes:\\n\\n*   **Ada Lovelace (1815-1852):** Embora não estivesse diretamente envolvida com IA como a conhecemos hoje, Ada Lovelace é considerada a primeira programadora da história. Ela escreveu o primeiro algoritmo destinado a ser processado por uma máquina, a Máquina Analítica de Charles Babbage. Suas notas sobre a máquina reconhecem a capacidade do computador de ir além do simples cálculo, antecipando conceitos que seriam fundamentais para a IA.\\n\\n*   **Margaret Hamilton (nascida em 1936):** Hamilton liderou a equipe que desenvolveu o software de voo para o programa Apollo da NASA. Seu trabalho foi crucial para o sucesso das missões à Lua, e sua abordagem inovadora para o desenvolvimento de software influenciou profundamente a engenharia de software e a IA. Ela criou o termo \"engenharia de software\".\\n\\n*   **Elsie Shami (anos 1930-2000):** Pioneira na área de processamento de linguagem natural. Trabalhou na IBM e fez contribuições importantes para o desenvolvimento de sistemas de tradução automática.\\n\\n*   **Barbara Liskov (nascida em 1939):** Embora mais conhecida por seu trabalho em linguagens de programação e sistemas distribuídos, a pesquisa de Liskov sobre abstração de dados e programação orientada a objetos foi fundamental para o desenvolvimento de sistemas de IA complexos. Ela é uma das primeiras mulheres a receber um doutorado em ciência da computação nos Estados Unidos.\\n\\n*   **Cynthia Breazeal (nascida em 1967):** Breazeal é uma pioneira na robótica social. Ela projetou robôs que podem interagir e se comunicar com humanos de forma natural e intuitiva, explorando as aplicações da IA na educação, saúde e entretenimento.\\n\\n*   **Fei-Fei Li (nascida em 1976):** Li é uma das principais pesquisadoras em visão computacional e aprendizado profundo. Ela liderou a criação do ImageNet, um enorme conjunto de dados de imagens que revolucionou o campo da visão computacional e impulsionou o desenvolvimento de algoritmos de IA mais precisos e eficientes.\\n\\nÉ importante notar que essa é apenas uma pequena amostra das muitas mulheres que contribuíram para o desenvolvimento da IA. Suas histórias muitas vezes foram silenciadas ou negligenciadas, mas seu impacto no campo é inegável.\\n\\nEspero que esta informação seja útil! Se tiver mais perguntas, fique à vontade para perguntar.\\n'"
            ],
            "application/vnd.google.colaboratory.intrinsic+json": {
              "type": "string"
            }
          },
          "metadata": {},
          "execution_count": 13
        }
      ]
    },
    {
      "cell_type": "code",
      "source": [
        "resposta = chat.send_message(\"Oi,  você é uma assistente pessoal e quero que você me explique de forma sucinta o que é a Inteligência Artificial?\")\n",
        "resposta.text"
      ],
      "metadata": {
        "colab": {
          "base_uri": "https://localhost:8080/",
          "height": 70
        },
        "id": "HFgVcaHtkVMv",
        "outputId": "36423730-d313-4c3d-e21d-0690b883a721"
      },
      "execution_count": null,
      "outputs": [
        {
          "output_type": "execute_result",
          "data": {
            "text/plain": [
              "'Olá! Com prazer!\\n\\nInteligência Artificial (IA) é fazer com que computadores pensem e ajam como humanos. Eles aprendem, resolvem problemas e tomam decisões sozinhos. É basicamente ensinar máquinas a serem \"inteligentes\".\\n'"
            ],
            "application/vnd.google.colaboratory.intrinsic+json": {
              "type": "string"
            }
          },
          "metadata": {},
          "execution_count": 14
        }
      ]
    },
    {
      "cell_type": "code",
      "source": [
        "from google.genai import types\n",
        "\n",
        "chat_config = types.GenerateContentConfig(\n",
        "    system_instruction = \"Você é uma assistente pessoal e pode responder de forma aprofundada.\"\n",
        ")\n",
        "\n",
        "chat = client.chats.create(model = modelo, config=chat_config)\n"
      ],
      "metadata": {
        "id": "JNKQaASRkus_"
      },
      "execution_count": null,
      "outputs": []
    },
    {
      "cell_type": "code",
      "source": [
        "resposta = chat.send_message(\"Você é uma assistente pesssoal e quero que você responda essas duas perguntas de forma aprofundada: O que é computação quântica e o qual a diferença entre um programador e um hacker?\")\n",
        "resposta.text"
      ],
      "metadata": {
        "colab": {
          "base_uri": "https://localhost:8080/",
          "height": 712
        },
        "id": "owZn9GpVlkMI",
        "outputId": "7d929792-a998-4fc3-8df5-07dfdb1283cb"
      },
      "execution_count": null,
      "outputs": [
        {
          "output_type": "execute_result",
          "data": {
            "text/plain": [
              "'## Computação Quântica: Uma Exploração Detalhada\\n\\nA computação quântica é um paradigma de computação que explora os princípios da mecânica quântica para processar informações de maneiras radicalmente diferentes dos computadores clássicos que usamos hoje. Em vez de bits, que representam 0 ou 1, a computação quântica utiliza **qubits**.\\n\\n**Qubits:** A grande diferença é que um qubit pode representar 0, 1 ou uma combinação de ambos, graças aos fenômenos da **superposição** e do **entrelaçamento**.\\n\\n*   **Superposição:** Imagine uma moeda girando no ar. Ela não é cara nem coroa até que você a pare. Um qubit em superposição é similar, existindo em múltiplos estados (0 e 1) simultaneamente. Isso permite que um computador quântico explore múltiplas possibilidades ao mesmo tempo.\\n*   **Entrelaçamento:** Quando dois qubits estão entrelaçados, seus estados estão intrinsecamente ligados, não importa a distância entre eles. Se você medir o estado de um qubit, instantaneamente saberá o estado do outro. O entrelaçamento permite que os computadores quânticos realizem operações complexas e paralelas de forma incrivelmente eficiente.\\n\\n**O Poder da Computação Quântica:** Essa capacidade de manipular qubits permite que a computação quântica resolva problemas que são intratáveis para os computadores clássicos, como:\\n\\n*   **Descoberta de novos medicamentos e materiais:** Simulações moleculares complexas para entender interações e prever propriedades de substâncias.\\n*   **Otimização:** Encontrar as melhores soluções em problemas complexos, como logística, finanças e planejamento.\\n*   **Criptografia:** Quebrar algoritmos de criptografia atuais e desenvolver novos métodos mais seguros.\\n*   **Inteligência Artificial:** Acelerar o treinamento de modelos de machine learning e criar algoritmos mais inteligentes.\\n\\nA computação quântica ainda está em seus estágios iniciais, com muitos desafios técnicos a serem superados. No entanto, o potencial transformador dessa tecnologia é enorme, e promete revolucionar diversos setores da sociedade.\\n\\n## Programador vs. Hacker: Uma Distinção Crucial\\n\\nA diferença entre um programador e um hacker reside principalmente em suas intenções e na forma como utilizam seus conhecimentos de programação.\\n\\n**Programador:**\\n\\n*   **Objetivo:** Desenvolver softwares, aplicativos, websites e sistemas para resolver problemas e atender às necessidades dos usuários.\\n*   **Habilidades:** Domínio de linguagens de programação, estruturas de dados, algoritmos e metodologias de desenvolvimento de software.\\n*   **Ética:** Segue princípios éticos e legais, respeitando a propriedade intelectual e a privacidade dos usuários.\\n*   **Foco:** Criação, manutenção e otimização de sistemas seguros e eficientes.\\n*   **Exemplo:** Um desenvolvedor de aplicativos para celular que cria um jogo divertido e seguro para os usuários.\\n\\n**Hacker:**\\n\\n*   **Objetivo:** Variável. Originalmente, o termo \"hacker\" se referia a um programador habilidoso que explorava sistemas para entender seu funcionamento. No entanto, o termo evoluiu e hoje é frequentemente associado a atividades maliciosas.\\n*   **Habilidades:** Conhecimento profundo de sistemas de computadores, redes, segurança da informação e técnicas de invasão.\\n*   **Ética:** Pode variar. Hackers podem ser classificados como \"white hats\" (éticos, que buscam vulnerabilidades para ajudar a corrigi-las), \"black hats\" (maliciosos, que exploram vulnerabilidades para ganho pessoal) ou \"gray hats\" (que atuam em uma zona cinzenta).\\n*   **Foco:** Identificação e exploração de vulnerabilidades em sistemas para obter acesso não autorizado, roubar informações, causar danos ou interromper serviços.\\n*   **Exemplo:** Um hacker malicioso que invade um sistema bancário para roubar dados de clientes ou um hacker ético que testa a segurança de um sistema para identificar falhas.\\n\\n**Em resumo:**\\n\\n*   **Programadores criam, hackers exploram.**\\n*   **Programadores constroem, hackers invadem.**\\n*   **Programadores seguem as regras, hackers as testam (ou quebram).**\\n\\nÉ importante ressaltar que nem todo hacker é criminoso. Hackers éticos desempenham um papel fundamental na segurança cibernética, ajudando a proteger sistemas e dados contra ataques maliciosos. No entanto, a atividade de hacking, quando realizada sem autorização e com fins maliciosos, é ilegal e pode ter sérias consequências.\\n'"
            ],
            "application/vnd.google.colaboratory.intrinsic+json": {
              "type": "string"
            }
          },
          "metadata": {},
          "execution_count": 19
        }
      ]
    },
    {
      "cell_type": "code",
      "source": [
        "chat.get_history()"
      ],
      "metadata": {
        "colab": {
          "base_uri": "https://localhost:8080/"
        },
        "id": "McsPxXcvmvh8",
        "outputId": "10cdc9bc-0ad0-4873-ba1a-cea5293c5d00"
      },
      "execution_count": null,
      "outputs": [
        {
          "output_type": "execute_result",
          "data": {
            "text/plain": [
              "[UserContent(parts=[Part(video_metadata=None, thought=None, inline_data=None, code_execution_result=None, executable_code=None, file_data=None, function_call=None, function_response=None, text='O que é computação quântica e o qual a diferença entre um programador e um hacker?')], role='user'),\n",
              " Content(parts=[Part(video_metadata=None, thought=None, inline_data=None, code_execution_result=None, executable_code=None, file_data=None, function_call=None, function_response=None, text='Computação quântica usa princípios da mecânica quântica para resolver problemas complexos que computadores clássicos não conseguem.\\n\\nUm programador cria softwares, enquanto um hacker explora vulnerabilidades em sistemas.\\n')], role='model'),\n",
              " UserContent(parts=[Part(video_metadata=None, thought=None, inline_data=None, code_execution_result=None, executable_code=None, file_data=None, function_call=None, function_response=None, text='O que é computação quântica e o qual a diferença entre um programador e um hacker?')], role='user'),\n",
              " Content(parts=[Part(video_metadata=None, thought=None, inline_data=None, code_execution_result=None, executable_code=None, file_data=None, function_call=None, function_response=None, text='Computação quântica usa mecânica quântica para cálculos complexos. Programadores criam software; hackers exploram falhas de segurança.\\n')], role='model'),\n",
              " UserContent(parts=[Part(video_metadata=None, thought=None, inline_data=None, code_execution_result=None, executable_code=None, file_data=None, function_call=None, function_response=None, text='O que é computação quântica e o qual a diferença entre um programador e um hacker?')], role='user'),\n",
              " Content(parts=[Part(video_metadata=None, thought=None, inline_data=None, code_execution_result=None, executable_code=None, file_data=None, function_call=None, function_response=None, text='Computação quântica usa princípios da mecânica quântica para resolver problemas complexos. Programadores criam software, hackers exploram vulnerabilidades.\\n')], role='model'),\n",
              " UserContent(parts=[Part(video_metadata=None, thought=None, inline_data=None, code_execution_result=None, executable_code=None, file_data=None, function_call=None, function_response=None, text='Você é uma assistente pesssoal e quero que você responda essas duas perguntas de forma aprofundada: O que é computação quântica e o qual a diferença entre um programador e um hacker?')], role='user'),\n",
              " Content(parts=[Part(video_metadata=None, thought=None, inline_data=None, code_execution_result=None, executable_code=None, file_data=None, function_call=None, function_response=None, text='## Computação Quântica: Uma Exploração Detalhada\\n\\nA computação quântica é um paradigma de computação que explora os princípios da mecânica quântica para processar informações de maneiras radicalmente diferentes dos computadores clássicos que usamos hoje. Em vez de bits, que representam 0 ou 1, a computação quântica utiliza **qubits**.\\n\\n**Qubits:** A grande diferença é que um qubit pode representar 0, 1 ou uma combinação de ambos, graças aos fenômenos da **superposição** e do **entrelaçamento**.\\n\\n*   **Superposição:** Imagine uma moeda girando no ar. Ela não é cara nem coroa até que você a pare. Um qubit em superposição é similar, existindo em múltiplos estados (0 e 1) simultaneamente. Isso permite que um computador quântico explore múltiplas possibilidades ao mesmo tempo.\\n*   **Entrelaçamento:** Quando dois qubits estão entrelaçados, seus estados estão intrinsecamente ligados, não importa a distância entre eles. Se você medir o estado de um qubit, instantaneamente saberá o estado do outro. O entrelaçamento permite que os computadores quânticos realizem operações complexas e paralelas de forma incrivelmente eficiente.\\n\\n**O Poder da Computação Quântica:** Essa capacidade de manipular qubits permite que a computação quântica resolva problemas que são intratáveis para os computadores clássicos, como:\\n\\n*   **Descoberta de novos medicamentos e materiais:** Simulações moleculares complexas para entender interações e prever propriedades de substâncias.\\n*   **Otimização:** Encontrar as melhores soluções em problemas complexos, como logística, finanças e planejamento.\\n*   **Criptografia:** Quebrar algoritmos de criptografia atuais e desenvolver novos métodos mais seguros.\\n*   **Inteligência Artificial:** Acelerar o treinamento de modelos de machine learning e criar algoritmos mais inteligentes.\\n\\nA computação quântica ainda está em seus estágios iniciais, com muitos desafios técnicos a serem superados. No entanto, o potencial transformador dessa tecnologia é enorme, e promete revolucionar diversos setores da sociedade.\\n\\n## Programador vs. Hacker: Uma Distinção Crucial\\n\\nA diferença entre um programador e um hacker reside principalmente em suas intenções e na forma como utilizam seus conhecimentos de programação.\\n\\n**Programador:**\\n\\n*   **Objetivo:** Desenvolver softwares, aplicativos, websites e sistemas para resolver problemas e atender às necessidades dos usuários.\\n*   **Habilidades:** Domínio de linguagens de programação, estruturas de dados, algoritmos e metodologias de desenvolvimento de software.\\n*   **Ética:** Segue princípios éticos e legais, respeitando a propriedade intelectual e a privacidade dos usuários.\\n*   **Foco:** Criação, manutenção e otimização de sistemas seguros e eficientes.\\n*   **Exemplo:** Um desenvolvedor de aplicativos para celular que cria um jogo divertido e seguro para os usuários.\\n\\n**Hacker:**\\n\\n*   **Objetivo:** Variável. Originalmente, o termo \"hacker\" se referia a um programador habilidoso que explorava sistemas para entender seu funcionamento. No entanto, o termo evoluiu e hoje é frequentemente associado a atividades maliciosas.\\n*   **Habilidades:** Conhecimento profundo de sistemas de computadores, redes, segurança da informação e técnicas de invasão.\\n*   **Ética:** Pode variar. Hackers podem ser classificados como \"white hats\" (éticos, que buscam vulnerabilidades para ajudar a corrigi-las), \"black hats\" (maliciosos, que exploram vulnerabilidades para ganho pessoal) ou \"gray hats\" (que atuam em uma zona cinzenta).\\n*   **Foco:** Identificação e exploração de vulnerabilidades em sistemas para obter acesso não autorizado, roubar informações, causar danos ou interromper serviços.\\n*   **Exemplo:** Um hacker malicioso que invade um sistema bancário para roubar dados de clientes ou um hacker ético que testa a segurança de um sistema para identificar falhas.\\n\\n**Em resumo:**\\n\\n*   **Programadores criam, hackers exploram.**\\n*   **Programadores constroem, hackers invadem.**\\n*   **Programadores seguem as regras, hackers as testam (ou quebram).**\\n\\nÉ importante ressaltar que nem todo hacker é criminoso. Hackers éticos desempenham um papel fundamental na segurança cibernética, ajudando a proteger sistemas e dados contra ataques maliciosos. No entanto, a atividade de hacking, quando realizada sem autorização e com fins maliciosos, é ilegal e pode ter sérias consequências.\\n')], role='model')]"
            ]
          },
          "metadata": {},
          "execution_count": 20
        }
      ]
    },
    {
      "cell_type": "code",
      "source": [
        "prompt = input(\"Esperando prompt: \")\n",
        "\n",
        "while prompt != \"fim\":\n",
        "    resposta = chat.send_message(prompt)\n",
        "    print(\"Resposta: \", resposta.text)\n",
        "    print(\"\\n\")\n",
        "    prompt = input(\"Esperando prompt: \")"
      ],
      "metadata": {
        "id": "lSW8Qj22m2yT"
      },
      "execution_count": null,
      "outputs": []
    },
    {
      "cell_type": "code",
      "source": [
        "chat.get_history()"
      ],
      "metadata": {
        "id": "-w8XEIPRnrcb"
      },
      "execution_count": null,
      "outputs": []
    },
    {
      "cell_type": "code",
      "source": [
        "chat_config_2= types.GenerateContentConfig(\n",
        "    system_instruction = \"Você é uma assistente pessoal que responde de forma humorada.\"\n",
        "    )\n",
        "\n",
        "chat_2 = client.chats.create(model=modelo, config=chat_config_2)"
      ],
      "metadata": {
        "id": "v70rptxhoRh6"
      },
      "execution_count": null,
      "outputs": []
    },
    {
      "cell_type": "code",
      "source": [
        "resposta = chat_2.send_message(\"O que é computação quântica?\")\n",
        "\n",
        "resposta.text"
      ],
      "metadata": {
        "colab": {
          "base_uri": "https://localhost:8080/",
          "height": 122
        },
        "id": "Ertti4Kbo9BR",
        "outputId": "02e2d3ba-70c2-491c-c0f6-b8c23a79c982"
      },
      "execution_count": null,
      "outputs": [
        {
          "output_type": "execute_result",
          "data": {
            "text/plain": [
              "'Ah, computação quântica! É basicamente pegar a física quântica, que já é estranha por si só, e usá-la para fazer cálculos. Imagine que, em vez de ter apenas 0 ou 1 como nos computadores normais, você pode ter 0, 1 ou ambos ao mesmo tempo! É como se o seu computador estivesse indeciso sobre qual resposta te dar, mas de uma forma incrivelmente poderosa.\\n\\nCom isso, eles podem resolver problemas que fariam nossos computadores atuais suarem frio, como descobrir novas drogas ou quebrar senhas complexas. Mas calma, não jogue seu laptop fora ainda! A computação quântica ainda está engatinhando, e para a maioria de nós, ainda é mais \"quântica\" do que \"computação\". 😉\\n'"
            ],
            "application/vnd.google.colaboratory.intrinsic+json": {
              "type": "string"
            }
          },
          "metadata": {},
          "execution_count": 29
        }
      ]
    }
  ]
}